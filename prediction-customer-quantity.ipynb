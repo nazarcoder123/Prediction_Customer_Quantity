{
 "cells": [
  {
   "cell_type": "code",
   "execution_count": 1,
   "id": "ceb2223e",
   "metadata": {
    "execution": {
     "iopub.execute_input": "2023-05-20T07:31:08.048553Z",
     "iopub.status.busy": "2023-05-20T07:31:08.048188Z",
     "iopub.status.idle": "2023-05-20T07:31:09.358593Z",
     "shell.execute_reply": "2023-05-20T07:31:09.357252Z"
    },
    "papermill": {
     "duration": 1.319369,
     "end_time": "2023-05-20T07:31:09.361122",
     "exception": false,
     "start_time": "2023-05-20T07:31:08.041753",
     "status": "completed"
    },
    "tags": []
   },
   "outputs": [
    {
     "name": "stderr",
     "output_type": "stream",
     "text": [
      "/opt/conda/lib/python3.10/site-packages/scipy/__init__.py:146: UserWarning: A NumPy version >=1.16.5 and <1.23.0 is required for this version of SciPy (detected version 1.23.5\n",
      "  warnings.warn(f\"A NumPy version >={np_minversion} and <{np_maxversion}\"\n"
     ]
    }
   ],
   "source": [
    "import pandas as pd\n",
    "import numpy as np\n",
    "import pandas as pd\n",
    "from sklearn.compose import ColumnTransformer\n",
    "from sklearn.preprocessing import OneHotEncoder\n",
    "from sklearn.linear_model import LinearRegression\n",
    "\n",
    "from sklearn.linear_model import LogisticRegression"
   ]
  },
  {
   "cell_type": "code",
   "execution_count": 2,
   "id": "95944bc6",
   "metadata": {
    "execution": {
     "iopub.execute_input": "2023-05-20T07:31:09.372058Z",
     "iopub.status.busy": "2023-05-20T07:31:09.371093Z",
     "iopub.status.idle": "2023-05-20T07:32:20.793809Z",
     "shell.execute_reply": "2023-05-20T07:32:20.792691Z"
    },
    "papermill": {
     "duration": 71.43081,
     "end_time": "2023-05-20T07:32:20.796520",
     "exception": false,
     "start_time": "2023-05-20T07:31:09.365710",
     "status": "completed"
    },
    "tags": []
   },
   "outputs": [],
   "source": [
    "df = pd.read_excel(\"/kaggle/input/online-retail/Online Retail.xlsx\")"
   ]
  },
  {
   "cell_type": "code",
   "execution_count": 3,
   "id": "8ada526b",
   "metadata": {
    "execution": {
     "iopub.execute_input": "2023-05-20T07:32:20.807572Z",
     "iopub.status.busy": "2023-05-20T07:32:20.806491Z",
     "iopub.status.idle": "2023-05-20T07:32:20.951860Z",
     "shell.execute_reply": "2023-05-20T07:32:20.950966Z"
    },
    "papermill": {
     "duration": 0.153841,
     "end_time": "2023-05-20T07:32:20.954872",
     "exception": false,
     "start_time": "2023-05-20T07:32:20.801031",
     "status": "completed"
    },
    "tags": []
   },
   "outputs": [
    {
     "data": {
      "text/html": [
       "<div>\n",
       "<style scoped>\n",
       "    .dataframe tbody tr th:only-of-type {\n",
       "        vertical-align: middle;\n",
       "    }\n",
       "\n",
       "    .dataframe tbody tr th {\n",
       "        vertical-align: top;\n",
       "    }\n",
       "\n",
       "    .dataframe thead th {\n",
       "        text-align: right;\n",
       "    }\n",
       "</style>\n",
       "<table border=\"1\" class=\"dataframe\">\n",
       "  <thead>\n",
       "    <tr style=\"text-align: right;\">\n",
       "      <th></th>\n",
       "      <th>InvoiceNo</th>\n",
       "      <th>StockCode</th>\n",
       "      <th>Description</th>\n",
       "      <th>Quantity</th>\n",
       "      <th>InvoiceDate</th>\n",
       "      <th>UnitPrice</th>\n",
       "      <th>CustomerID</th>\n",
       "      <th>Country</th>\n",
       "    </tr>\n",
       "  </thead>\n",
       "  <tbody>\n",
       "    <tr>\n",
       "      <th>0</th>\n",
       "      <td>536365</td>\n",
       "      <td>85123A</td>\n",
       "      <td>WHITE HANGING HEART T-LIGHT HOLDER</td>\n",
       "      <td>6</td>\n",
       "      <td>2010-12-01 08:26:00</td>\n",
       "      <td>2.55</td>\n",
       "      <td>17850.0</td>\n",
       "      <td>United Kingdom</td>\n",
       "    </tr>\n",
       "    <tr>\n",
       "      <th>1</th>\n",
       "      <td>536365</td>\n",
       "      <td>71053</td>\n",
       "      <td>WHITE METAL LANTERN</td>\n",
       "      <td>6</td>\n",
       "      <td>2010-12-01 08:26:00</td>\n",
       "      <td>3.39</td>\n",
       "      <td>17850.0</td>\n",
       "      <td>United Kingdom</td>\n",
       "    </tr>\n",
       "    <tr>\n",
       "      <th>2</th>\n",
       "      <td>536365</td>\n",
       "      <td>84406B</td>\n",
       "      <td>CREAM CUPID HEARTS COAT HANGER</td>\n",
       "      <td>8</td>\n",
       "      <td>2010-12-01 08:26:00</td>\n",
       "      <td>2.75</td>\n",
       "      <td>17850.0</td>\n",
       "      <td>United Kingdom</td>\n",
       "    </tr>\n",
       "    <tr>\n",
       "      <th>3</th>\n",
       "      <td>536365</td>\n",
       "      <td>84029G</td>\n",
       "      <td>KNITTED UNION FLAG HOT WATER BOTTLE</td>\n",
       "      <td>6</td>\n",
       "      <td>2010-12-01 08:26:00</td>\n",
       "      <td>3.39</td>\n",
       "      <td>17850.0</td>\n",
       "      <td>United Kingdom</td>\n",
       "    </tr>\n",
       "    <tr>\n",
       "      <th>4</th>\n",
       "      <td>536365</td>\n",
       "      <td>84029E</td>\n",
       "      <td>RED WOOLLY HOTTIE WHITE HEART.</td>\n",
       "      <td>6</td>\n",
       "      <td>2010-12-01 08:26:00</td>\n",
       "      <td>3.39</td>\n",
       "      <td>17850.0</td>\n",
       "      <td>United Kingdom</td>\n",
       "    </tr>\n",
       "  </tbody>\n",
       "</table>\n",
       "</div>"
      ],
      "text/plain": [
       "  InvoiceNo StockCode                          Description  Quantity  \\\n",
       "0    536365    85123A   WHITE HANGING HEART T-LIGHT HOLDER         6   \n",
       "1    536365     71053                  WHITE METAL LANTERN         6   \n",
       "2    536365    84406B       CREAM CUPID HEARTS COAT HANGER         8   \n",
       "3    536365    84029G  KNITTED UNION FLAG HOT WATER BOTTLE         6   \n",
       "4    536365    84029E       RED WOOLLY HOTTIE WHITE HEART.         6   \n",
       "\n",
       "          InvoiceDate  UnitPrice  CustomerID         Country  \n",
       "0 2010-12-01 08:26:00       2.55     17850.0  United Kingdom  \n",
       "1 2010-12-01 08:26:00       3.39     17850.0  United Kingdom  \n",
       "2 2010-12-01 08:26:00       2.75     17850.0  United Kingdom  \n",
       "3 2010-12-01 08:26:00       3.39     17850.0  United Kingdom  \n",
       "4 2010-12-01 08:26:00       3.39     17850.0  United Kingdom  "
      ]
     },
     "execution_count": 3,
     "metadata": {},
     "output_type": "execute_result"
    }
   ],
   "source": [
    "# In this lets see the first five row's\n",
    "df.head()"
   ]
  },
  {
   "cell_type": "code",
   "execution_count": 4,
   "id": "da3b54a7",
   "metadata": {
    "execution": {
     "iopub.execute_input": "2023-05-20T07:32:20.965162Z",
     "iopub.status.busy": "2023-05-20T07:32:20.964837Z",
     "iopub.status.idle": "2023-05-20T07:32:20.970570Z",
     "shell.execute_reply": "2023-05-20T07:32:20.969653Z"
    },
    "papermill": {
     "duration": 0.013136,
     "end_time": "2023-05-20T07:32:20.972528",
     "exception": false,
     "start_time": "2023-05-20T07:32:20.959392",
     "status": "completed"
    },
    "tags": []
   },
   "outputs": [
    {
     "data": {
      "text/plain": [
       "(541909, 8)"
      ]
     },
     "execution_count": 4,
     "metadata": {},
     "output_type": "execute_result"
    }
   ],
   "source": [
    "# In this we will see the Total number of rows and columns\n",
    "df.shape"
   ]
  },
  {
   "cell_type": "code",
   "execution_count": 5,
   "id": "54605fb9",
   "metadata": {
    "execution": {
     "iopub.execute_input": "2023-05-20T07:32:20.982778Z",
     "iopub.status.busy": "2023-05-20T07:32:20.982441Z",
     "iopub.status.idle": "2023-05-20T07:32:20.988361Z",
     "shell.execute_reply": "2023-05-20T07:32:20.987495Z"
    },
    "papermill": {
     "duration": 0.014595,
     "end_time": "2023-05-20T07:32:20.991609",
     "exception": false,
     "start_time": "2023-05-20T07:32:20.977014",
     "status": "completed"
    },
    "tags": []
   },
   "outputs": [
    {
     "data": {
      "text/plain": [
       "Index(['InvoiceNo', 'StockCode', 'Description', 'Quantity', 'InvoiceDate',\n",
       "       'UnitPrice', 'CustomerID', 'Country'],\n",
       "      dtype='object')"
      ]
     },
     "execution_count": 5,
     "metadata": {},
     "output_type": "execute_result"
    }
   ],
   "source": [
    "# In this lets see the total columns name\n",
    "df.columns"
   ]
  },
  {
   "cell_type": "code",
   "execution_count": 6,
   "id": "2a39067d",
   "metadata": {
    "execution": {
     "iopub.execute_input": "2023-05-20T07:32:21.002335Z",
     "iopub.status.busy": "2023-05-20T07:32:21.001985Z",
     "iopub.status.idle": "2023-05-20T07:32:21.325281Z",
     "shell.execute_reply": "2023-05-20T07:32:21.324321Z"
    },
    "papermill": {
     "duration": 0.331652,
     "end_time": "2023-05-20T07:32:21.327876",
     "exception": false,
     "start_time": "2023-05-20T07:32:20.996224",
     "status": "completed"
    },
    "tags": []
   },
   "outputs": [
    {
     "name": "stdout",
     "output_type": "stream",
     "text": [
      "<class 'pandas.core.frame.DataFrame'>\n",
      "RangeIndex: 541909 entries, 0 to 541908\n",
      "Data columns (total 8 columns):\n",
      " #   Column       Non-Null Count   Dtype         \n",
      "---  ------       --------------   -----         \n",
      " 0   InvoiceNo    541909 non-null  object        \n",
      " 1   StockCode    541909 non-null  object        \n",
      " 2   Description  540455 non-null  object        \n",
      " 3   Quantity     541909 non-null  int64         \n",
      " 4   InvoiceDate  541909 non-null  datetime64[ns]\n",
      " 5   UnitPrice    541909 non-null  float64       \n",
      " 6   CustomerID   406829 non-null  float64       \n",
      " 7   Country      541909 non-null  object        \n",
      "dtypes: datetime64[ns](1), float64(2), int64(1), object(4)\n",
      "memory usage: 33.1+ MB\n"
     ]
    }
   ],
   "source": [
    "# In this we check the dtype of the data \n",
    "df.info()"
   ]
  },
  {
   "cell_type": "code",
   "execution_count": 7,
   "id": "6a9a799d",
   "metadata": {
    "execution": {
     "iopub.execute_input": "2023-05-20T07:32:21.339316Z",
     "iopub.status.busy": "2023-05-20T07:32:21.338960Z",
     "iopub.status.idle": "2023-05-20T07:32:21.651046Z",
     "shell.execute_reply": "2023-05-20T07:32:21.650055Z"
    },
    "papermill": {
     "duration": 0.320929,
     "end_time": "2023-05-20T07:32:21.653824",
     "exception": false,
     "start_time": "2023-05-20T07:32:21.332895",
     "status": "completed"
    },
    "tags": []
   },
   "outputs": [
    {
     "data": {
      "text/plain": [
       "InvoiceNo           0\n",
       "StockCode           0\n",
       "Description      1454\n",
       "Quantity            0\n",
       "InvoiceDate         0\n",
       "UnitPrice           0\n",
       "CustomerID     135080\n",
       "Country             0\n",
       "dtype: int64"
      ]
     },
     "execution_count": 7,
     "metadata": {},
     "output_type": "execute_result"
    }
   ],
   "source": [
    "# Lets us check the null values\n",
    "df.isnull().sum()"
   ]
  },
  {
   "cell_type": "code",
   "execution_count": 8,
   "id": "487da799",
   "metadata": {
    "execution": {
     "iopub.execute_input": "2023-05-20T07:32:21.665267Z",
     "iopub.status.busy": "2023-05-20T07:32:21.664911Z",
     "iopub.status.idle": "2023-05-20T07:32:22.017417Z",
     "shell.execute_reply": "2023-05-20T07:32:22.016279Z"
    },
    "papermill": {
     "duration": 0.361143,
     "end_time": "2023-05-20T07:32:22.019891",
     "exception": false,
     "start_time": "2023-05-20T07:32:21.658748",
     "status": "completed"
    },
    "tags": []
   },
   "outputs": [],
   "source": [
    "# Dropping rows with null values\n",
    "df = df.dropna()"
   ]
  },
  {
   "cell_type": "code",
   "execution_count": 9,
   "id": "30b10852",
   "metadata": {
    "execution": {
     "iopub.execute_input": "2023-05-20T07:32:22.032211Z",
     "iopub.status.busy": "2023-05-20T07:32:22.031527Z",
     "iopub.status.idle": "2023-05-20T07:32:22.266534Z",
     "shell.execute_reply": "2023-05-20T07:32:22.265506Z"
    },
    "papermill": {
     "duration": 0.243539,
     "end_time": "2023-05-20T07:32:22.268545",
     "exception": false,
     "start_time": "2023-05-20T07:32:22.025006",
     "status": "completed"
    },
    "tags": []
   },
   "outputs": [
    {
     "data": {
      "text/plain": [
       "InvoiceNo      0\n",
       "StockCode      0\n",
       "Description    0\n",
       "Quantity       0\n",
       "InvoiceDate    0\n",
       "UnitPrice      0\n",
       "CustomerID     0\n",
       "Country        0\n",
       "dtype: int64"
      ]
     },
     "execution_count": 9,
     "metadata": {},
     "output_type": "execute_result"
    }
   ],
   "source": [
    "# Now we have drop the null values\n",
    "df.isnull().sum()"
   ]
  },
  {
   "cell_type": "code",
   "execution_count": 10,
   "id": "5d34c497",
   "metadata": {
    "execution": {
     "iopub.execute_input": "2023-05-20T07:32:22.279880Z",
     "iopub.status.busy": "2023-05-20T07:32:22.279541Z",
     "iopub.status.idle": "2023-05-20T07:32:22.439885Z",
     "shell.execute_reply": "2023-05-20T07:32:22.439035Z"
    },
    "papermill": {
     "duration": 0.168823,
     "end_time": "2023-05-20T07:32:22.442358",
     "exception": false,
     "start_time": "2023-05-20T07:32:22.273535",
     "status": "completed"
    },
    "tags": []
   },
   "outputs": [],
   "source": [
    "# Filter the data for the specific Customer ID and Date\n",
    "customer_id = 17854\n",
    "date = 2010-12-1\n",
    "filtered_data = df[(df['CustomerID'] == customer_id) & (df['InvoiceDate'].dt.date == pd.to_datetime(date).date())]"
   ]
  },
  {
   "cell_type": "code",
   "execution_count": 11,
   "id": "3f8099ee",
   "metadata": {
    "execution": {
     "iopub.execute_input": "2023-05-20T07:32:22.454070Z",
     "iopub.status.busy": "2023-05-20T07:32:22.453404Z",
     "iopub.status.idle": "2023-05-20T07:32:22.466611Z",
     "shell.execute_reply": "2023-05-20T07:32:22.465514Z"
    },
    "papermill": {
     "duration": 0.021341,
     "end_time": "2023-05-20T07:32:22.468821",
     "exception": false,
     "start_time": "2023-05-20T07:32:22.447480",
     "status": "completed"
    },
    "tags": []
   },
   "outputs": [
    {
     "data": {
      "text/html": [
       "<div>\n",
       "<style scoped>\n",
       "    .dataframe tbody tr th:only-of-type {\n",
       "        vertical-align: middle;\n",
       "    }\n",
       "\n",
       "    .dataframe tbody tr th {\n",
       "        vertical-align: top;\n",
       "    }\n",
       "\n",
       "    .dataframe thead th {\n",
       "        text-align: right;\n",
       "    }\n",
       "</style>\n",
       "<table border=\"1\" class=\"dataframe\">\n",
       "  <thead>\n",
       "    <tr style=\"text-align: right;\">\n",
       "      <th></th>\n",
       "      <th>InvoiceNo</th>\n",
       "      <th>StockCode</th>\n",
       "      <th>Description</th>\n",
       "      <th>Quantity</th>\n",
       "      <th>InvoiceDate</th>\n",
       "      <th>UnitPrice</th>\n",
       "      <th>CustomerID</th>\n",
       "      <th>Country</th>\n",
       "    </tr>\n",
       "  </thead>\n",
       "  <tbody>\n",
       "    <tr>\n",
       "      <th>0</th>\n",
       "      <td>536365</td>\n",
       "      <td>85123A</td>\n",
       "      <td>WHITE HANGING HEART T-LIGHT HOLDER</td>\n",
       "      <td>6</td>\n",
       "      <td>2010-12-01 08:26:00</td>\n",
       "      <td>2.55</td>\n",
       "      <td>17850.0</td>\n",
       "      <td>United Kingdom</td>\n",
       "    </tr>\n",
       "    <tr>\n",
       "      <th>1</th>\n",
       "      <td>536365</td>\n",
       "      <td>71053</td>\n",
       "      <td>WHITE METAL LANTERN</td>\n",
       "      <td>6</td>\n",
       "      <td>2010-12-01 08:26:00</td>\n",
       "      <td>3.39</td>\n",
       "      <td>17850.0</td>\n",
       "      <td>United Kingdom</td>\n",
       "    </tr>\n",
       "    <tr>\n",
       "      <th>2</th>\n",
       "      <td>536365</td>\n",
       "      <td>84406B</td>\n",
       "      <td>CREAM CUPID HEARTS COAT HANGER</td>\n",
       "      <td>8</td>\n",
       "      <td>2010-12-01 08:26:00</td>\n",
       "      <td>2.75</td>\n",
       "      <td>17850.0</td>\n",
       "      <td>United Kingdom</td>\n",
       "    </tr>\n",
       "  </tbody>\n",
       "</table>\n",
       "</div>"
      ],
      "text/plain": [
       "  InvoiceNo StockCode                         Description  Quantity  \\\n",
       "0    536365    85123A  WHITE HANGING HEART T-LIGHT HOLDER         6   \n",
       "1    536365     71053                 WHITE METAL LANTERN         6   \n",
       "2    536365    84406B      CREAM CUPID HEARTS COAT HANGER         8   \n",
       "\n",
       "          InvoiceDate  UnitPrice  CustomerID         Country  \n",
       "0 2010-12-01 08:26:00       2.55     17850.0  United Kingdom  \n",
       "1 2010-12-01 08:26:00       3.39     17850.0  United Kingdom  \n",
       "2 2010-12-01 08:26:00       2.75     17850.0  United Kingdom  "
      ]
     },
     "execution_count": 11,
     "metadata": {},
     "output_type": "execute_result"
    }
   ],
   "source": [
    "df.head(3)"
   ]
  },
  {
   "cell_type": "code",
   "execution_count": 12,
   "id": "49d84b9a",
   "metadata": {
    "execution": {
     "iopub.execute_input": "2023-05-20T07:32:22.480799Z",
     "iopub.status.busy": "2023-05-20T07:32:22.480445Z",
     "iopub.status.idle": "2023-05-20T07:32:22.520855Z",
     "shell.execute_reply": "2023-05-20T07:32:22.519545Z"
    },
    "papermill": {
     "duration": 0.04898,
     "end_time": "2023-05-20T07:32:22.522972",
     "exception": false,
     "start_time": "2023-05-20T07:32:22.473992",
     "status": "completed"
    },
    "tags": []
   },
   "outputs": [
    {
     "name": "stdout",
     "output_type": "stream",
     "text": [
      "Predicted quantity for Customer ID 17850.0 on 2010-12-01 08:26:00: 5.6000000000000005\n"
     ]
    }
   ],
   "source": [
    "customer_id = 17850.0\n",
    "date = '2010-12-01 08:26:00'\n",
    "\n",
    "filtered_data = df[(df['CustomerID'] == customer_id) & (df['InvoiceDate'] == pd.to_datetime(date))]\n",
    "\n",
    "if filtered_data.empty:\n",
    "    print(\"No data found for the specified Customer ID and Date.\")\n",
    "else:\n",
    "    # Step 2: Training a Model\n",
    "    X = filtered_data[['InvoiceNo', 'UnitPrice']]\n",
    "    y = filtered_data['Quantity']\n",
    "\n",
    "    # One-hot encode the 'StockCode' column\n",
    "    #ct = ColumnTransformer([('encoder', OneHotEncoder(), [0])], remainder='passthrough')\n",
    "    #X_encoded = ct.fit_transform(X)\n",
    "    \n",
    "    ct = ColumnTransformer(transformers=[('encoder', OneHotEncoder(handle_unknown='ignore'), [0, 1])], remainder='passthrough')\n",
    "    X_encoded = ct.fit_transform(X)\n",
    "\n",
    "    model = LinearRegression()\n",
    "    model.fit(X_encoded, y)\n",
    "\n",
    "    # Step 3: Predicting Quantity\n",
    "    new_data = pd.DataFrame({'InvoiceNo': ['NEW_INVOICE'], 'StockCode': ['NEW_STOCK'], 'UnitPrice': [0.0]})\n",
    "\n",
    "    if not new_data.empty:\n",
    "        new_data_encoded = ct.transform(new_data)\n",
    "\n",
    "        prediction = model.predict(new_data_encoded)\n",
    "\n",
    "        # Step 4: Print the Prediction\n",
    "        print(f\"Predicted quantity for Customer ID {customer_id} on {date}: {prediction[0]}\")\n",
    "    else:\n",
    "        print(\"New data is empty. Unable to make a prediction.\")"
   ]
  },
  {
   "cell_type": "markdown",
   "id": "b818f979",
   "metadata": {
    "papermill": {
     "duration": 0.004997,
     "end_time": "2023-05-20T07:32:22.533275",
     "exception": false,
     "start_time": "2023-05-20T07:32:22.528278",
     "status": "completed"
    },
    "tags": []
   },
   "source": [
    "## Lets check the accuracy of the model"
   ]
  },
  {
   "cell_type": "code",
   "execution_count": 13,
   "id": "0aae5d8f",
   "metadata": {
    "execution": {
     "iopub.execute_input": "2023-05-20T07:32:22.545729Z",
     "iopub.status.busy": "2023-05-20T07:32:22.545108Z",
     "iopub.status.idle": "2023-05-20T07:32:22.562791Z",
     "shell.execute_reply": "2023-05-20T07:32:22.561845Z"
    },
    "papermill": {
     "duration": 0.026441,
     "end_time": "2023-05-20T07:32:22.564929",
     "exception": false,
     "start_time": "2023-05-20T07:32:22.538488",
     "status": "completed"
    },
    "tags": []
   },
   "outputs": [
    {
     "name": "stdout",
     "output_type": "stream",
     "text": [
      "Predicted quantity for Customer ID 17850.0 on 2010-12-01 08:26:00: 5.6000000000000005\n",
      "Mean Squared Error: 3.6625684885261264e-31\n"
     ]
    }
   ],
   "source": [
    "from sklearn.metrics import mean_squared_error\n",
    "\n",
    "# Step 2: Training a Model\n",
    "X = filtered_data[['InvoiceNo', 'UnitPrice']]\n",
    "y = filtered_data['Quantity']\n",
    "\n",
    "# One-hot encode the 'StockCode' column\n",
    "ct = ColumnTransformer(transformers=[('encoder', OneHotEncoder(handle_unknown='ignore'), [0, 1])], remainder='passthrough')\n",
    "X_encoded = ct.fit_transform(X)\n",
    "\n",
    "model = LinearRegression()\n",
    "model.fit(X_encoded, y)\n",
    "\n",
    "# Step 3: Predicting Quantity\n",
    "new_data = pd.DataFrame({'InvoiceNo': ['NEW_INVOICE'], 'StockCode': ['NEW_STOCK'], 'UnitPrice': [0.0]})\n",
    "\n",
    "if not new_data.empty:\n",
    "    new_data_encoded = ct.transform(new_data)\n",
    "\n",
    "    prediction = model.predict(new_data_encoded)\n",
    "\n",
    "    # Step 4: Print the Prediction\n",
    "    print(f\"Predicted quantity for Customer ID {customer_id} on {date}: {prediction[0]}\")\n",
    "    \n",
    "    # Step 5: Calculate Mean Squared Error (MSE)\n",
    "    y_pred = model.predict(X_encoded)\n",
    "    mse = mean_squared_error(y, y_pred)\n",
    "    print(f\"Mean Squared Error: {mse}\")\n",
    "else:\n",
    "    print(\"New data is empty. Unable to make a prediction.\")"
   ]
  },
  {
   "cell_type": "markdown",
   "id": "55e85020",
   "metadata": {
    "papermill": {
     "duration": 0.004928,
     "end_time": "2023-05-20T07:32:22.575204",
     "exception": false,
     "start_time": "2023-05-20T07:32:22.570276",
     "status": "completed"
    },
    "tags": []
   },
   "source": [
    "\n",
    "## The above code performs a linear regression model to predict the quantity of items for a specific customer on a given date. Here's a      step-by-step description of the code."
   ]
  },
  {
   "cell_type": "markdown",
   "id": "5825f68d",
   "metadata": {
    "papermill": {
     "duration": 0.004929,
     "end_time": "2023-05-20T07:32:22.585394",
     "exception": false,
     "start_time": "2023-05-20T07:32:22.580465",
     "status": "completed"
    },
    "tags": []
   },
   "source": [
    "1.The code reads an Excel file containing retail data using pandas.\n",
    "\n",
    "2.It filters the data based on a specific customer ID and date to obtain a subset of records.\n",
    "\n",
    "3.If the filtered data is not empty, the code proceeds to train a linear regression model to predict the quantity of items.\n",
    "\n",
    "4.The features used for training are 'InvoiceNo' and 'UnitPrice', and the target variable is 'Quantity'.\n",
    "\n",
    "5.The 'InvoiceNo' and 'UnitPrice' columns are encoded using one-hot encoding, while the remaining columns are left unchanged.\n",
    "\n",
    "6.The linear regression model is fitted on the encoded features and target variable.\n",
    "\n",
    "7.The code then creates new data with a hypothetical 'InvoiceNo', 'StockCode', and 'UnitPrice'.\n",
    "\n",
    "8.If the new data is not empty, it is encoded using the same column transformer.\n",
    "\n",
    "9.The trained model is used to predict the quantity of items for the new data.\n",
    "\n",
    "10.Finally, the predicted quantity is printed as the output."
   ]
  },
  {
   "cell_type": "markdown",
   "id": "ec5a6a51",
   "metadata": {
    "papermill": {
     "duration": 0.005074,
     "end_time": "2023-05-20T07:32:22.595705",
     "exception": false,
     "start_time": "2023-05-20T07:32:22.590631",
     "status": "completed"
    },
    "tags": []
   },
   "source": [
    "## Additionally, the code calculates the mean squared error (MSE) to evaluate the model's accuracy. A very low MSE value suggests that      the model's predictions are very close to the actual values."
   ]
  }
 ],
 "metadata": {
  "kernelspec": {
   "display_name": "Python 3",
   "language": "python",
   "name": "python3"
  },
  "language_info": {
   "codemirror_mode": {
    "name": "ipython",
    "version": 3
   },
   "file_extension": ".py",
   "mimetype": "text/x-python",
   "name": "python",
   "nbconvert_exporter": "python",
   "pygments_lexer": "ipython3",
   "version": "3.10.10"
  },
  "papermill": {
   "default_parameters": {},
   "duration": 85.312881,
   "end_time": "2023-05-20T07:32:23.521688",
   "environment_variables": {},
   "exception": null,
   "input_path": "__notebook__.ipynb",
   "output_path": "__notebook__.ipynb",
   "parameters": {},
   "start_time": "2023-05-20T07:30:58.208807",
   "version": "2.4.0"
  }
 },
 "nbformat": 4,
 "nbformat_minor": 5
}
